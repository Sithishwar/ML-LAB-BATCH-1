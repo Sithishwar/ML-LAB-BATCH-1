{
  "nbformat": 4,
  "nbformat_minor": 0,
  "metadata": {
    "colab": {
      "provenance": []
    },
    "kernelspec": {
      "name": "python3",
      "display_name": "Python 3"
    },
    "language_info": {
      "name": "python"
    }
  },
  "cells": [
    {
      "cell_type": "markdown",
      "source": [
        "**ANN**"
      ],
      "metadata": {
        "id": "2yyhstG2TgEv"
      }
    },
    {
      "cell_type": "code",
      "execution_count": null,
      "metadata": {
        "colab": {
          "base_uri": "https://localhost:8080/"
        },
        "id": "kmbBNzTWTfcB",
        "outputId": "7ecf9bbc-412c-44a8-bf99-6a1d4b73240b"
      },
      "outputs": [
        {
          "output_type": "stream",
          "name": "stdout",
          "text": [
            "--- Perceptron Model ---\n"
          ]
        },
        {
          "output_type": "stream",
          "name": "stderr",
          "text": [
            "/usr/local/lib/python3.12/dist-packages/keras/src/layers/core/dense.py:93: UserWarning: Do not pass an `input_shape`/`input_dim` argument to a layer. When using Sequential models, prefer using an `Input(shape)` object as the first layer in the model instead.\n",
            "  super().__init__(activity_regularizer=activity_regularizer, **kwargs)\n"
          ]
        },
        {
          "output_type": "stream",
          "name": "stdout",
          "text": [
            "Perceptron Test Accuracy: 0.9850\n",
            "\n",
            "--- Multi-Layer Perceptron (MLP) Model ---\n",
            "MLP Test Accuracy: 1.0000\n"
          ]
        }
      ],
      "source": [
        "import numpy as np\n",
        "import pandas as pd\n",
        "from sklearn.model_selection import train_test_split\n",
        "from sklearn.preprocessing import StandardScaler\n",
        "from tensorflow import keras\n",
        "from tensorflow.keras.models import Sequential\n",
        "from tensorflow.keras.layers import Dense\n",
        "\n",
        "np.random.seed(42)\n",
        "n_samples = 1000\n",
        "n_features = 5\n",
        "X = np.random.rand(n_samples, n_features)\n",
        "y = (X[:, 0] + 2 * X[:, 1] - X[:, 2] > 1.0).astype(int)\n",
        "\n",
        "X_train, X_test, y_train, y_test = train_test_split(X, y, test_size=0.2, random_state=42)\n",
        "\n",
        "scaler = StandardScaler()\n",
        "X_train_scaled = scaler.fit_transform(X_train)\n",
        "X_test_scaled = scaler.transform(X_test)\n",
        "\n",
        "print(\"--- Perceptron Model ---\")\n",
        "perceptron_model = Sequential([\n",
        "    Dense(1, activation='sigmoid', input_shape=(n_features,))\n",
        "])\n",
        "\n",
        "perceptron_model.compile(optimizer='adam',\n",
        "                         loss='binary_crossentropy',\n",
        "                         metrics=['accuracy'])\n",
        "\n",
        "perceptron_model.fit(X_train_scaled, y_train, epochs=50, batch_size=32, verbose=0)\n",
        "\n",
        "loss, accuracy = perceptron_model.evaluate(X_test_scaled, y_test, verbose=0)\n",
        "print(f\"Perceptron Test Accuracy: {accuracy:.4f}\")\n",
        "\n",
        "print(\"\\n--- Multi-Layer Perceptron (MLP) Model ---\")\n",
        "mlp_model = Sequential([\n",
        "    Dense(10, activation='relu', input_shape=(n_features,)),\n",
        "    Dense(5, activation='relu'),\n",
        "    Dense(1, activation='sigmoid')\n",
        "])\n",
        "\n",
        "mlp_model.compile(optimizer='adam',\n",
        "                  loss='binary_crossentropy',\n",
        "                  metrics=['accuracy'])\n",
        "\n",
        "mlp_model.fit(X_train_scaled, y_train, epochs=50, batch_size=32, verbose=0)\n",
        "\n",
        "loss, accuracy = mlp_model.evaluate(X_test_scaled, y_test, verbose=0)\n",
        "print(f\"MLP Test Accuracy: {accuracy:.4f}\")\n",
        "\n"
      ]
    }
  ]
}